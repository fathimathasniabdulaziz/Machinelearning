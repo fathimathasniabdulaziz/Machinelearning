{
 "cells": [
  {
   "cell_type": "code",
   "execution_count": 26,
   "id": "4cb2c74a",
   "metadata": {},
   "outputs": [],
   "source": [
    "import pandas as pd\n",
    "import seaborn as sns\n",
    "import numpy as np\n",
    "import matplotlib.pyplot as plt\n"
   ]
  },
  {
   "cell_type": "code",
   "execution_count": 27,
   "id": "c32004b9",
   "metadata": {},
   "outputs": [
    {
     "data": {
      "text/html": [
       "<div>\n",
       "<style scoped>\n",
       "    .dataframe tbody tr th:only-of-type {\n",
       "        vertical-align: middle;\n",
       "    }\n",
       "\n",
       "    .dataframe tbody tr th {\n",
       "        vertical-align: top;\n",
       "    }\n",
       "\n",
       "    .dataframe thead th {\n",
       "        text-align: right;\n",
       "    }\n",
       "</style>\n",
       "<table border=\"1\" class=\"dataframe\">\n",
       "  <thead>\n",
       "    <tr style=\"text-align: right;\">\n",
       "      <th></th>\n",
       "      <th>location</th>\n",
       "      <th>size</th>\n",
       "      <th>total_sqft</th>\n",
       "      <th>bath</th>\n",
       "      <th>price</th>\n",
       "      <th>bhk</th>\n",
       "      <th>price_per_sqft</th>\n",
       "    </tr>\n",
       "  </thead>\n",
       "  <tbody>\n",
       "    <tr>\n",
       "      <th>0</th>\n",
       "      <td>Electronic City Phase II</td>\n",
       "      <td>2 BHK</td>\n",
       "      <td>1056.0</td>\n",
       "      <td>2.0</td>\n",
       "      <td>39.07</td>\n",
       "      <td>2</td>\n",
       "      <td>3699</td>\n",
       "    </tr>\n",
       "    <tr>\n",
       "      <th>1</th>\n",
       "      <td>Chikka Tirupathi</td>\n",
       "      <td>4 Bedroom</td>\n",
       "      <td>2600.0</td>\n",
       "      <td>5.0</td>\n",
       "      <td>120.00</td>\n",
       "      <td>4</td>\n",
       "      <td>4615</td>\n",
       "    </tr>\n",
       "    <tr>\n",
       "      <th>2</th>\n",
       "      <td>Uttarahalli</td>\n",
       "      <td>3 BHK</td>\n",
       "      <td>1440.0</td>\n",
       "      <td>2.0</td>\n",
       "      <td>62.00</td>\n",
       "      <td>3</td>\n",
       "      <td>4305</td>\n",
       "    </tr>\n",
       "    <tr>\n",
       "      <th>3</th>\n",
       "      <td>Lingadheeranahalli</td>\n",
       "      <td>3 BHK</td>\n",
       "      <td>1521.0</td>\n",
       "      <td>3.0</td>\n",
       "      <td>95.00</td>\n",
       "      <td>3</td>\n",
       "      <td>6245</td>\n",
       "    </tr>\n",
       "    <tr>\n",
       "      <th>4</th>\n",
       "      <td>Kothanur</td>\n",
       "      <td>2 BHK</td>\n",
       "      <td>1200.0</td>\n",
       "      <td>2.0</td>\n",
       "      <td>51.00</td>\n",
       "      <td>2</td>\n",
       "      <td>4250</td>\n",
       "    </tr>\n",
       "    <tr>\n",
       "      <th>...</th>\n",
       "      <td>...</td>\n",
       "      <td>...</td>\n",
       "      <td>...</td>\n",
       "      <td>...</td>\n",
       "      <td>...</td>\n",
       "      <td>...</td>\n",
       "      <td>...</td>\n",
       "    </tr>\n",
       "    <tr>\n",
       "      <th>13195</th>\n",
       "      <td>Whitefield</td>\n",
       "      <td>5 Bedroom</td>\n",
       "      <td>3453.0</td>\n",
       "      <td>4.0</td>\n",
       "      <td>231.00</td>\n",
       "      <td>5</td>\n",
       "      <td>6689</td>\n",
       "    </tr>\n",
       "    <tr>\n",
       "      <th>13196</th>\n",
       "      <td>other</td>\n",
       "      <td>4 BHK</td>\n",
       "      <td>3600.0</td>\n",
       "      <td>5.0</td>\n",
       "      <td>400.00</td>\n",
       "      <td>4</td>\n",
       "      <td>11111</td>\n",
       "    </tr>\n",
       "    <tr>\n",
       "      <th>13197</th>\n",
       "      <td>Raja Rajeshwari Nagar</td>\n",
       "      <td>2 BHK</td>\n",
       "      <td>1141.0</td>\n",
       "      <td>2.0</td>\n",
       "      <td>60.00</td>\n",
       "      <td>2</td>\n",
       "      <td>5258</td>\n",
       "    </tr>\n",
       "    <tr>\n",
       "      <th>13198</th>\n",
       "      <td>Padmanabhanagar</td>\n",
       "      <td>4 BHK</td>\n",
       "      <td>4689.0</td>\n",
       "      <td>4.0</td>\n",
       "      <td>488.00</td>\n",
       "      <td>4</td>\n",
       "      <td>10407</td>\n",
       "    </tr>\n",
       "    <tr>\n",
       "      <th>13199</th>\n",
       "      <td>Doddathoguru</td>\n",
       "      <td>1 BHK</td>\n",
       "      <td>550.0</td>\n",
       "      <td>1.0</td>\n",
       "      <td>17.00</td>\n",
       "      <td>1</td>\n",
       "      <td>3090</td>\n",
       "    </tr>\n",
       "  </tbody>\n",
       "</table>\n",
       "<p>13200 rows × 7 columns</p>\n",
       "</div>"
      ],
      "text/plain": [
       "                       location       size  total_sqft  bath   price  bhk  \\\n",
       "0      Electronic City Phase II      2 BHK      1056.0   2.0   39.07    2   \n",
       "1              Chikka Tirupathi  4 Bedroom      2600.0   5.0  120.00    4   \n",
       "2                   Uttarahalli      3 BHK      1440.0   2.0   62.00    3   \n",
       "3            Lingadheeranahalli      3 BHK      1521.0   3.0   95.00    3   \n",
       "4                      Kothanur      2 BHK      1200.0   2.0   51.00    2   \n",
       "...                         ...        ...         ...   ...     ...  ...   \n",
       "13195                Whitefield  5 Bedroom      3453.0   4.0  231.00    5   \n",
       "13196                     other      4 BHK      3600.0   5.0  400.00    4   \n",
       "13197     Raja Rajeshwari Nagar      2 BHK      1141.0   2.0   60.00    2   \n",
       "13198           Padmanabhanagar      4 BHK      4689.0   4.0  488.00    4   \n",
       "13199              Doddathoguru      1 BHK       550.0   1.0   17.00    1   \n",
       "\n",
       "       price_per_sqft  \n",
       "0                3699  \n",
       "1                4615  \n",
       "2                4305  \n",
       "3                6245  \n",
       "4                4250  \n",
       "...               ...  \n",
       "13195            6689  \n",
       "13196           11111  \n",
       "13197            5258  \n",
       "13198           10407  \n",
       "13199            3090  \n",
       "\n",
       "[13200 rows x 7 columns]"
      ]
     },
     "execution_count": 27,
     "metadata": {},
     "output_type": "execute_result"
    }
   ],
   "source": [
    "data=pd.read_csv('house_price.csv')\n",
    "data"
   ]
  },
  {
   "cell_type": "code",
   "execution_count": 28,
   "id": "343c917b",
   "metadata": {},
   "outputs": [
    {
     "data": {
      "text/plain": [
       "<Axes: >"
      ]
     },
     "execution_count": 28,
     "metadata": {},
     "output_type": "execute_result"
    },
    {
     "data": {
      "image/png": "[encoded data removed]",
      "text/plain": [
       "<Figure size 640x480 with 1 Axes>"
      ]
     },
     "metadata": {},
     "output_type": "display_data"
    }
   ],
   "source": [
    "sns.boxplot(data['price_per_sqft'])"
   ]
  },
  {
   "cell_type": "code",
   "execution_count": 29,
   "id": "31992770",
   "metadata": {},
   "outputs": [
    {
     "data": {
      "text/plain": [
       "<Axes: xlabel='price_per_sqft', ylabel='Count'>"
      ]
     },
     "execution_count": 29,
     "metadata": {},
     "output_type": "execute_result"
    },
    {
     "data": {
      "image/png": "[encoded data removed]",
      "text/plain": [
       "<Figure size 640x480 with 1 Axes>"
      ]
     },
     "metadata": {},
     "output_type": "display_data"
    }
   ],
   "source": [
    "sns.histplot(data = data,x = data.price_per_sqft, kde = True)"
   ]
  },
  {
   "cell_type": "code",
   "execution_count": null,
   "id": "0cc1f194",
   "metadata": {},
   "outputs": [],
   "source": []
  },
  {
   "cell_type": "code",
   "execution_count": 30,
   "id": "4f42656c",
   "metadata": {},
   "outputs": [
    {
     "data": {
      "text/plain": [
       "7920.336742424242"
      ]
     },
     "execution_count": 30,
     "metadata": {},
     "output_type": "execute_result"
    }
   ],
   "source": [
    "data.price_per_sqft.mean()"
   ]
  },
  {
   "cell_type": "code",
   "execution_count": 31,
   "id": "a78bb2f1",
   "metadata": {},
   "outputs": [
    {
     "data": {
      "text/plain": [
       "5438.0"
      ]
     },
     "execution_count": 31,
     "metadata": {},
     "output_type": "execute_result"
    }
   ],
   "source": [
    "data.price_per_sqft.median()"
   ]
  },
  {
   "cell_type": "code",
   "execution_count": 32,
   "id": "4a4813a1",
   "metadata": {},
   "outputs": [
    {
     "data": {
      "text/plain": [
       "4267.0"
      ]
     },
     "execution_count": 32,
     "metadata": {},
     "output_type": "execute_result"
    }
   ],
   "source": [
    "data.price_per_sqft.quantile(0.25)"
   ]
  },
  {
   "cell_type": "code",
   "execution_count": 33,
   "id": "a4ba2e59",
   "metadata": {},
   "outputs": [
    {
     "data": {
      "text/plain": [
       "5438.0"
      ]
     },
     "execution_count": 33,
     "metadata": {},
     "output_type": "execute_result"
    }
   ],
   "source": [
    "data.price_per_sqft.quantile(0.50)"
   ]
  },
  {
   "cell_type": "code",
   "execution_count": 34,
   "id": "9722998d",
   "metadata": {},
   "outputs": [
    {
     "data": {
      "text/plain": [
       "7317.0"
      ]
     },
     "execution_count": 34,
     "metadata": {},
     "output_type": "execute_result"
    }
   ],
   "source": [
    "data.price_per_sqft.quantile(0.75)"
   ]
  },
  {
   "cell_type": "code",
   "execution_count": 35,
   "id": "4580fadb",
   "metadata": {},
   "outputs": [
    {
     "data": {
      "text/plain": [
       "8019.200000000001"
      ]
     },
     "execution_count": 35,
     "metadata": {},
     "output_type": "execute_result"
    }
   ],
   "source": [
    "data.price_per_sqft.quantile(0.80)"
   ]
  },
  {
   "cell_type": "code",
   "execution_count": 36,
   "id": "59fab7d9",
   "metadata": {},
   "outputs": [
    {
     "data": {
      "text/plain": [
       "9000.0"
      ]
     },
     "execution_count": 36,
     "metadata": {},
     "output_type": "execute_result"
    }
   ],
   "source": [
    "data.price_per_sqft.quantile(0.84)"
   ]
  },
  {
   "cell_type": "code",
   "execution_count": 37,
   "id": "f76befcd",
   "metadata": {},
   "outputs": [
    {
     "data": {
      "text/plain": [
       "9333.899999999998"
      ]
     },
     "execution_count": 37,
     "metadata": {},
     "output_type": "execute_result"
    }
   ],
   "source": [
    "data.price_per_sqft.quantile(0.85)"
   ]
  },
  {
   "cell_type": "code",
   "execution_count": 38,
   "id": "9bf9be9e",
   "metadata": {},
   "outputs": [
    {
     "data": {
      "text/html": [
       "<div>\n",
       "<style scoped>\n",
       "    .dataframe tbody tr th:only-of-type {\n",
       "        vertical-align: middle;\n",
       "    }\n",
       "\n",
       "    .dataframe tbody tr th {\n",
       "        vertical-align: top;\n",
       "    }\n",
       "\n",
       "    .dataframe thead th {\n",
       "        text-align: right;\n",
       "    }\n",
       "</style>\n",
       "<table border=\"1\" class=\"dataframe\">\n",
       "  <thead>\n",
       "    <tr style=\"text-align: right;\">\n",
       "      <th></th>\n",
       "      <th>location</th>\n",
       "      <th>size</th>\n",
       "      <th>total_sqft</th>\n",
       "      <th>bath</th>\n",
       "      <th>price</th>\n",
       "      <th>bhk</th>\n",
       "      <th>price_per_sqft</th>\n",
       "    </tr>\n",
       "  </thead>\n",
       "  <tbody>\n",
       "    <tr>\n",
       "      <th>7</th>\n",
       "      <td>Rajaji Nagar</td>\n",
       "      <td>4 BHK</td>\n",
       "      <td>3300.0</td>\n",
       "      <td>4.0</td>\n",
       "      <td>600.0</td>\n",
       "      <td>4</td>\n",
       "      <td>18181</td>\n",
       "    </tr>\n",
       "    <tr>\n",
       "      <th>9</th>\n",
       "      <td>other</td>\n",
       "      <td>6 Bedroom</td>\n",
       "      <td>1020.0</td>\n",
       "      <td>6.0</td>\n",
       "      <td>370.0</td>\n",
       "      <td>6</td>\n",
       "      <td>36274</td>\n",
       "    </tr>\n",
       "    <tr>\n",
       "      <th>11</th>\n",
       "      <td>Whitefield</td>\n",
       "      <td>4 Bedroom</td>\n",
       "      <td>2785.0</td>\n",
       "      <td>5.0</td>\n",
       "      <td>295.0</td>\n",
       "      <td>4</td>\n",
       "      <td>10592</td>\n",
       "    </tr>\n",
       "    <tr>\n",
       "      <th>18</th>\n",
       "      <td>other</td>\n",
       "      <td>3 BHK</td>\n",
       "      <td>2770.0</td>\n",
       "      <td>4.0</td>\n",
       "      <td>290.0</td>\n",
       "      <td>3</td>\n",
       "      <td>10469</td>\n",
       "    </tr>\n",
       "    <tr>\n",
       "      <th>22</th>\n",
       "      <td>Thanisandra</td>\n",
       "      <td>4 Bedroom</td>\n",
       "      <td>2800.0</td>\n",
       "      <td>5.0</td>\n",
       "      <td>380.0</td>\n",
       "      <td>4</td>\n",
       "      <td>13571</td>\n",
       "    </tr>\n",
       "    <tr>\n",
       "      <th>...</th>\n",
       "      <td>...</td>\n",
       "      <td>...</td>\n",
       "      <td>...</td>\n",
       "      <td>...</td>\n",
       "      <td>...</td>\n",
       "      <td>...</td>\n",
       "      <td>...</td>\n",
       "    </tr>\n",
       "    <tr>\n",
       "      <th>13186</th>\n",
       "      <td>other</td>\n",
       "      <td>4 Bedroom</td>\n",
       "      <td>1200.0</td>\n",
       "      <td>5.0</td>\n",
       "      <td>325.0</td>\n",
       "      <td>4</td>\n",
       "      <td>27083</td>\n",
       "    </tr>\n",
       "    <tr>\n",
       "      <th>13188</th>\n",
       "      <td>Bannerghatta Road</td>\n",
       "      <td>3 BHK</td>\n",
       "      <td>1527.0</td>\n",
       "      <td>3.0</td>\n",
       "      <td>142.0</td>\n",
       "      <td>3</td>\n",
       "      <td>9299</td>\n",
       "    </tr>\n",
       "    <tr>\n",
       "      <th>13191</th>\n",
       "      <td>Ramamurthy Nagar</td>\n",
       "      <td>7 Bedroom</td>\n",
       "      <td>1500.0</td>\n",
       "      <td>9.0</td>\n",
       "      <td>250.0</td>\n",
       "      <td>7</td>\n",
       "      <td>16666</td>\n",
       "    </tr>\n",
       "    <tr>\n",
       "      <th>13196</th>\n",
       "      <td>other</td>\n",
       "      <td>4 BHK</td>\n",
       "      <td>3600.0</td>\n",
       "      <td>5.0</td>\n",
       "      <td>400.0</td>\n",
       "      <td>4</td>\n",
       "      <td>11111</td>\n",
       "    </tr>\n",
       "    <tr>\n",
       "      <th>13198</th>\n",
       "      <td>Padmanabhanagar</td>\n",
       "      <td>4 BHK</td>\n",
       "      <td>4689.0</td>\n",
       "      <td>4.0</td>\n",
       "      <td>488.0</td>\n",
       "      <td>4</td>\n",
       "      <td>10407</td>\n",
       "    </tr>\n",
       "  </tbody>\n",
       "</table>\n",
       "<p>2105 rows × 7 columns</p>\n",
       "</div>"
      ],
      "text/plain": [
       "                location       size  total_sqft  bath  price  bhk  \\\n",
       "7           Rajaji Nagar      4 BHK      3300.0   4.0  600.0    4   \n",
       "9                  other  6 Bedroom      1020.0   6.0  370.0    6   \n",
       "11            Whitefield  4 Bedroom      2785.0   5.0  295.0    4   \n",
       "18                 other      3 BHK      2770.0   4.0  290.0    3   \n",
       "22           Thanisandra  4 Bedroom      2800.0   5.0  380.0    4   \n",
       "...                  ...        ...         ...   ...    ...  ...   \n",
       "13186              other  4 Bedroom      1200.0   5.0  325.0    4   \n",
       "13188  Bannerghatta Road      3 BHK      1527.0   3.0  142.0    3   \n",
       "13191   Ramamurthy Nagar  7 Bedroom      1500.0   9.0  250.0    7   \n",
       "13196              other      4 BHK      3600.0   5.0  400.0    4   \n",
       "13198    Padmanabhanagar      4 BHK      4689.0   4.0  488.0    4   \n",
       "\n",
       "       price_per_sqft  \n",
       "7               18181  \n",
       "9               36274  \n",
       "11              10592  \n",
       "18              10469  \n",
       "22              13571  \n",
       "...               ...  \n",
       "13186           27083  \n",
       "13188            9299  \n",
       "13191           16666  \n",
       "13196           11111  \n",
       "13198           10407  \n",
       "\n",
       "[2105 rows x 7 columns]"
      ]
     },
     "execution_count": 38,
     "metadata": {},
     "output_type": "execute_result"
    }
   ],
   "source": [
    "data[data.price_per_sqft>data.price_per_sqft.quantile(0.84)]"
   ]
  },
  {
   "cell_type": "code",
   "execution_count": 39,
   "id": "6803fce0",
   "metadata": {},
   "outputs": [
    {
     "data": {
      "text/plain": [
       "4267.0"
      ]
     },
     "execution_count": 39,
     "metadata": {},
     "output_type": "execute_result"
    }
   ],
   "source": [
    "q1=data.price_per_sqft.quantile(0.25)\n",
    "q1"
   ]
  },
  {
   "cell_type": "code",
   "execution_count": 40,
   "id": "049905d5",
   "metadata": {},
   "outputs": [
    {
     "data": {
      "text/plain": [
       "7317.0"
      ]
     },
     "execution_count": 40,
     "metadata": {},
     "output_type": "execute_result"
    }
   ],
   "source": [
    "q3=data.price_per_sqft.quantile(0.75)\n",
    "q3"
   ]
  },
  {
   "cell_type": "code",
   "execution_count": 41,
   "id": "dd61122d",
   "metadata": {},
   "outputs": [
    {
     "data": {
      "text/plain": [
       "3050.0"
      ]
     },
     "execution_count": 41,
     "metadata": {},
     "output_type": "execute_result"
    }
   ],
   "source": [
    "iqr=q3-q1\n",
    "iqr"
   ]
  },
  {
   "cell_type": "code",
   "execution_count": 42,
   "id": "78355888",
   "metadata": {},
   "outputs": [
    {
     "data": {
      "text/plain": [
       "(-308.0, 11892.0)"
      ]
     },
     "execution_count": 42,
     "metadata": {},
     "output_type": "execute_result"
    }
   ],
   "source": [
    "lower = q1 - 1.5 * iqr\n",
    "upper = q3 + 1.5 * iqr\n",
    "(lower,upper)"
   ]
  },
  {
   "cell_type": "code",
   "execution_count": null,
   "id": "7548c57c",
   "metadata": {},
   "outputs": [],
   "source": [
    "#HYPOTHESIS TESTING\n",
    "A coffee shop claims that their average wait time for customers is less than 5 minutes. To test this claim, a sample of 40 customers is taken, and their wait times are recorded. The sample mean wait time is found to be 4.6 minutes with a standard deviation of 0.8 minutes. Perform a hypothesis test at a significance level of 0.05 and determine whether there is enough evidence to support the coffee shop's claim.\n"
   ]
  },
  {
   "cell_type": "code",
   "execution_count": null,
   "id": "40f5baaf",
   "metadata": {},
   "outputs": [],
   "source": [
    "To test the coffee shop's claim that the average wait time is less than 5 minutes, we can set up the following hypotheses:\n",
    "\n",
    "Null hypothesis (H0): The average wait time is 5 minutes or more (μ ≥ 5).\n",
    "Alternative hypothesis (H1): The average wait time is less than 5 minutes (μ < 5).\n",
    "\n",
    "We'll conduct a one-tailed t-test because we're testing whether the population mean is less than the claimed value.\n",
    "\n",
    "Given:\n",
    "\n",
    "Sample mean (x̄) = 4.6 minutes\n",
    "Sample standard deviation (σ) = 0.8 minutes\n",
    "Sample size (n) = 40\n",
    "Significance level (α) = 0.05\n",
    "We'll use the t-test formula:\n",
    "\n",
    "�\n",
    "=\n",
    "�\n",
    "ˉ\n",
    "−\n",
    "�\n",
    "�\n",
    "�\n",
    "t= \n",
    "n\n",
    "​\n",
    " \n",
    "s\n",
    "​\n",
    " \n",
    "x\n",
    "ˉ\n",
    " −μ\n",
    "​\n",
    " \n",
    "\n",
    "Where:\n",
    "\n",
    "�\n",
    "ˉ\n",
    "x\n",
    "ˉ\n",
    "  is the sample mean,\n",
    "�\n",
    "μ is the population mean under the null hypothesis,\n",
    "�\n",
    "s is the sample standard deviation, and\n",
    "�\n",
    "n is the sample size.\n",
    "Let's calculate the t-value and then compare it with the critical t-value to determine whether there's enough evidence to support the claim.\n",
    "\n",
    "�\n",
    "=\n",
    "4.6\n",
    "−\n",
    "5\n",
    "0.8\n",
    "40\n",
    "t= \n",
    "40\n",
    "​\n",
    " \n",
    "0.8\n",
    "​\n",
    " \n",
    "4.6−5\n",
    "​\n",
    " \n",
    "\n",
    "�\n",
    "≈\n",
    "4.6\n",
    "−\n",
    "5\n",
    "0.8\n",
    "40\n",
    "t≈ \n",
    "40\n",
    "​\n",
    " \n",
    "0.8\n",
    "​\n",
    " \n",
    "4.6−5\n",
    "​\n",
    " \n",
    "\n",
    "�\n",
    "≈\n",
    "−\n",
    "0.4\n",
    "0.8\n",
    "40\n",
    "t≈ \n",
    "40\n",
    "​\n",
    " \n",
    "0.8\n",
    "​\n",
    " \n",
    "−0.4\n",
    "​\n",
    " \n",
    "\n",
    "�\n",
    "≈\n",
    "−\n",
    "0.4\n",
    "0.126\n",
    "t≈ \n",
    "0.126\n",
    "−0.4\n",
    "​\n",
    " \n",
    "\n",
    "�\n",
    "≈\n",
    "−\n",
    "3.174\n",
    "t≈−3.174\n",
    "\n",
    "Now, we need to find the critical t-value at α = 0.05 with degrees of freedom (df) = n - 1 = 40 - 1 = 39. Using a t-table or a statistical software, we find the critical t-value to be approximately -1.685 (for a one-tailed test).\n",
    "\n",
    "Since the calculated t-value (-3.174) is less than the critical t-value (-1.685), we reject the null hypothesis. There is enough evidence to support the claim that the average wait time at the coffee shop is less than 5 minutes.\n",
    "\n",
    "\n",
    "\n"
   ]
  },
  {
   "cell_type": "code",
   "execution_count": null,
   "id": "c2894586",
   "metadata": {},
   "outputs": [],
   "source": [
    "Suppose a child psychologist claims that the average time working mothers spend talking to their children is at least 11 minutes per day. You conduct a random sample of 1000 working mothers and find they spend an average of 11.5 minutes per day talking with their children. Assume prior research suggests the population standard deviation is 2.3 minutes.Conduct a test with a level of significance of alpha = 0.05.\n"
   ]
  },
  {
   "cell_type": "code",
   "execution_count": null,
   "id": "641dbf05",
   "metadata": {},
   "outputs": [],
   "source": [
    "To test the psychologist's claim that the average time working mothers spend talking to their children is at least 11 minutes per day, we can set up the following hypotheses:\n",
    "\n",
    "Null hypothesis (H0): The average time spent talking to children is less than 11 minutes (μ < 11).\n",
    "Alternative hypothesis (H1): The average time spent talking to children is at least 11 minutes (μ ≥ 11).\n",
    "\n",
    "We'll conduct a one-tailed z-test because we're testing whether the population mean is greater than or equal to the claimed value.\n",
    "\n",
    "Given:\n",
    "\n",
    "Sample mean (x̄) = 11.5 minutes\n",
    "Population standard deviation (σ) = 2.3 minutes\n",
    "Sample size (n) = 1000\n",
    "Significance level (α) = 0.05\n",
    "We'll use the z-test formula:\n",
    "\n",
    "�\n",
    "=\n",
    "�\n",
    "ˉ\n",
    "−\n",
    "�\n",
    "�\n",
    "�\n",
    "z= \n",
    "n\n",
    "​\n",
    " \n",
    "σ\n",
    "​\n",
    " \n",
    "x\n",
    "ˉ\n",
    " −μ\n",
    "​\n",
    " \n",
    "\n",
    "Where:\n",
    "\n",
    "�\n",
    "ˉ\n",
    "x\n",
    "ˉ\n",
    "  is the sample mean,\n",
    "�\n",
    "μ is the population mean under the null hypothesis,\n",
    "�\n",
    "σ is the population standard deviation, and\n",
    "�\n",
    "n is the sample size.\n",
    "Let's calculate the z-value and then compare it with the critical z-value to determine whether there's enough evidence to support the psychologist's claim.\n",
    "\n",
    "�\n",
    "=\n",
    "11.5\n",
    "−\n",
    "11\n",
    "2.3\n",
    "1000\n",
    "z= \n",
    "1000\n",
    "​\n",
    " \n",
    "2.3\n",
    "​\n",
    " \n",
    "11.5−11\n",
    "​\n",
    " \n",
    "\n",
    "�\n",
    "=\n",
    "0.5\n",
    "2.3\n",
    "1000\n",
    "z= \n",
    "1000\n",
    "​\n",
    " \n",
    "2.3\n",
    "​\n",
    " \n",
    "0.5\n",
    "​\n",
    " \n",
    "\n",
    "�\n",
    "=\n",
    "0.5\n",
    "2.3\n",
    "31.62\n",
    "z= \n",
    "31.62\n",
    "2.3\n",
    "​\n",
    " \n",
    "0.5\n",
    "​\n",
    " \n",
    "\n",
    "�\n",
    "=\n",
    "0.5\n",
    "0.0727\n",
    "z= \n",
    "0.0727\n",
    "0.5\n",
    "​\n",
    " \n",
    "\n",
    "�\n",
    "≈\n",
    "6.876\n",
    "z≈6.876\n",
    "\n",
    "Now, we need to find the critical z-value at α = 0.05. Since we're conducting a one-tailed test (to the right), the critical z-value would be approximately 1.645.\n",
    "\n",
    "Since the calculated z-value (6.876) is greater than the critical z-value (1.645), we reject the null hypothesis. There is enough evidence to support the psychologist's claim that the average time working mothers spend talking to their children is at least 11 minutes per day.\n",
    "\n",
    "\n",
    "\n",
    "\n",
    "\n"
   ]
  },
  {
   "cell_type": "code",
   "execution_count": null,
   "id": "6ff64254",
   "metadata": {},
   "outputs": [],
   "source": []
  }
 ],
 "metadata": {
  "kernelspec": {
   "display_name": "Python 3 (ipykernel)",
   "language": "python",
   "name": "python3"
  },
  "language_info": {
   "codemirror_mode": {
    "name": "ipython",
    "version": 3
   },
   "file_extension": ".py",
   "mimetype": "text/x-python",
   "name": "python",
   "nbconvert_exporter": "python",
   "pygments_lexer": "ipython3",
   "version": "3.11.5"
  }
 },
 "nbformat": 4,
 "nbformat_minor": 5
}
